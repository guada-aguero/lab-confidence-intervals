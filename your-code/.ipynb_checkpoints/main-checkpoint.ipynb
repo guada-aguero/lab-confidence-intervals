{
 "cells": [
  {
   "cell_type": "markdown",
   "metadata": {},
   "source": [
    "# Confidence Intervals"
   ]
  },
  {
   "cell_type": "code",
   "execution_count": 1,
   "metadata": {},
   "outputs": [],
   "source": [
    "# Libraries\n",
    "import numpy as np\n",
    "from scipy import stats"
   ]
  },
  {
   "cell_type": "markdown",
   "metadata": {},
   "source": [
    "## Challenge 1\n",
    "We want to estimate the average size of the men of a country with a confidence level of 80%. Assuming that the standard deviation of the sizes in the population is 4, get the confidence interval with a sample of men selected randomly, whose heights are:\n",
    "\n",
    "````\n",
    "heights = [167, 167, 168, 168, 168, 169, 171, 172, 173, 175, 175, 175, 177, 182, 195]\n",
    "````\n",
    "\n",
    "**Hint**: function `stats.norm.interval` from `scipy` can help you get through this exercise. "
   ]
  },
  {
   "cell_type": "code",
   "execution_count": 2,
   "metadata": {},
   "outputs": [
    {
     "name": "stdout",
     "output_type": "stream",
     "text": [
      "80% Confidence Interval for the average height: (172.14308590115726, 174.79024743217607)\n"
     ]
    }
   ],
   "source": [
    "# your code here\n",
    "# Given data\n",
    "heights = [167, 167, 168, 168, 168, 169, 171, 172, 173, 175, 175, 175, 177, 182, 195]\n",
    "confidence_level = 0.80\n",
    "population_std_dev = 4\n",
    "\n",
    "# Sample Statistics\n",
    "sample_mean = np.mean(heights)\n",
    "sample_size = len(heights)\n",
    "standard_error = population_std_dev / np.sqrt(sample_size)\n",
    "\n",
    "# Confidence Interval Calculation\n",
    "confidence_interval = stats.norm.interval(confidence_level, loc=sample_mean,scale=standard_error)\n",
    "print(\"80% Confidence Interval for the average height:\", confidence_interval)"
   ]
  },
  {
   "cell_type": "markdown",
   "metadata": {},
   "source": [
    "## Challenge 2 \n",
    "In a sample of 105 shops selected randomly from an area, we note that 27 of them have had losses in this month. Get an interval for the proportion of businesses in the area with losses to a confidence level of 80% and a confidence level of 90%.\n",
    "\n",
    "**Hint**: function `stats.norm.interval` from `scipy` can help you get through this exercise. "
   ]
  },
  {
   "cell_type": "code",
   "execution_count": 6,
   "metadata": {},
   "outputs": [
    {
     "name": "stdout",
     "output_type": "stream",
     "text": [
      "80% Confidence Interval for the proportion: (0.20248138545542083, 0.3118043288302934)\n",
      "90% Confidence Interval for the proportion: (0.1869856177645281, 0.3273000965211861)\n"
     ]
    }
   ],
   "source": [
    "# your code here\n",
    "\n",
    "# Given data\n",
    "sample_size = 105\n",
    "num_losses = 27\n",
    "confidence_level_80 = 0.80\n",
    "confidence_level_90 = 0.90\n",
    "\n",
    "# Sample proportion\n",
    "sample_proportion = num_losses / sample_size\n",
    "standard_error_proportion = np.sqrt((sample_proportion * (1 - sample_proportion)) / sample_size)\n",
    "\n",
    "# Confidence Interval Calculation using stats.norm.interval\n",
    "confidence_interval_80 = stats.norm.interval(confidence_level_80, loc=sample_proportion, scale=standard_error_proportion)\n",
    "print(\"80% Confidence Interval for the proportion:\", confidence_interval_80)\n",
    "\n",
    "confidence_interval_90 = stats.norm.interval(confidence_level_90, loc=sample_proportion,scale=standard_error_proportion)\n",
    "print(\"90% Confidence Interval for the proportion:\", confidence_interval_90)"
   ]
  },
  {
   "cell_type": "markdown",
   "metadata": {},
   "source": [
    "## Bonus Challenge\n",
    "The error level or sampling error for the first challenge is given by the following expression:\n",
    "$$Error = z_{\\frac{\\alpha}{2}}\\frac{\\sigma}{\\sqrt n}$$\n",
    "Where z represents the value for N(0,1)\n",
    "\n",
    "\n",
    "Suppose that with the previous data of challenge 1, and with a confidence level of\n",
    "99% (that is, almost certainly) we want to estimate the average population size, so that the error level committed is not greater than half a centimeter.\n",
    "\n",
    "#### 1.- Determine what size the selected sample of men should be."
   ]
  },
  {
   "cell_type": "code",
   "execution_count": 8,
   "metadata": {},
   "outputs": [
    {
     "name": "stdout",
     "output_type": "stream",
     "text": [
      "Required sample size for 99% confidence: 425.0\n"
     ]
    }
   ],
   "source": [
    "# your code here\n",
    "# Given data\n",
    "desired_error = 0.5\n",
    "confidence_level_99 = 0.99\n",
    "\n",
    "# Z-score for 99% confidence\n",
    "\n",
    "z_score_99 = stats.norm.ppf(1 - (1 - confidence_level_99) / 2)\n",
    "\n",
    "# Sample size calculation\n",
    "required_sample_size = (z_score_99 * population_std_dev / desired_error) **2\n",
    "required_sample_size = np.ceil(required_sample_size) # Round up to the next whole number\n",
    "print(\"Required sample size for 99% confidence:\",required_sample_size)"
   ]
  },
  {
   "cell_type": "markdown",
   "metadata": {},
   "source": [
    "#### 2.- For the second challenge, we have the following error:\n",
    "$$ Error = z_{\\frac{\\alpha}{2}}\\sqrt{\\frac{p\\times q}{n}} $$\n",
    "#### Determine the sample size required to not exceed an error of 1% with a confidence of 80%."
   ]
  },
  {
   "cell_type": "code",
   "execution_count": 11,
   "metadata": {},
   "outputs": [
    {
     "name": "stdout",
     "output_type": "stream",
     "text": [
      "Required sample size for 80% confidence, with error <= 1%: 3138.0\n"
     ]
    }
   ],
   "source": [
    "# your code here\n",
    "# Given data\n",
    "desired_error_proportion = 0.01\n",
    "confidence_level_80 = 0.80\n",
    "p = sample_proportion\n",
    "q = 1 - p\n",
    "\n",
    "# Z-score for 80% confidence\n",
    "z_score_80 = stats.norm.ppf(1 - (1- confidence_level_80) / 2)\n",
    "\n",
    "# Sample size calculation\n",
    "required_sample_size_proportion = (z_score_80 ** 2 * p * q) / (desired_error_proportion ** 2)\n",
    "required_sample_size_proportion = np.ceil(required_sample_size_proportion) # Round up to the next whole number\n",
    "print(\"Required sample size for 80% confidence, with error <= 1%:\", required_sample_size_proportion)"
   ]
  },
  {
   "cell_type": "markdown",
   "metadata": {},
   "source": [
    "## Bonus Challenge\n",
    "\n",
    "Let's consider the following problem:\n",
    "\n",
    "Build a confidence interval of 94% for the real difference between the durations of two brands of spotlights, if a sample of 40 spotlights taken randomly from the first mark gave an average duration of 418 hours, and a sample of 50 bulbs of another brand gave a duration average of 402 hours. The standard deviations of the two\n",
    "populations are 26 hours and 22 hours, respectively.\n",
    "\n",
    "Sometimes, we will be interested in the difference of two different groups of random variables. We can also build a confidence interval for that! We have some different cases regarding the variance but for this specific case (the variance are different and known), we have that:\n",
    "\n",
    "$$\\overline{X} - \\overline{Y}  \\sim N(\\mu_{X} - \\mu_{Y} , \\sqrt{\\frac{\\sigma_{X}^2}{n_X}+\\frac{\\sigma_{Y}^2}{n_Y}})$$\n",
    "\n",
    "Solve the problem with this information."
   ]
  },
  {
   "cell_type": "code",
   "execution_count": 15,
   "metadata": {},
   "outputs": [
    {
     "name": "stdout",
     "output_type": "stream",
     "text": [
      "94% Confidence Interval for the difference between two means: (6.303419026585921, 25.69658097341408)\n"
     ]
    }
   ],
   "source": [
    "# your code here\n",
    "# Given data= \n",
    "n1 = 40\n",
    "mean1 = 418\n",
    "std_dev1 = 26\n",
    "\n",
    "n2 = 50\n",
    "mean2 = 402\n",
    "std_dev2 = 22\n",
    "\n",
    "confidence_level_94 = 0.94\n",
    "\n",
    "# Standard error of the difference\n",
    "\n",
    "std_err_diff = np.sqrt((std_dev1 ** 2 / n1) + (std_dev2 ** 2 / n2))\n",
    "\n",
    "# Confidence Interval Calculation using stats.norm.interval\n",
    "mean_diff = mean1 - mean2\n",
    "confidence_interval_diff = stats.norm.interval(confidence_level_94, loc=mean_diff, scale=std_err_diff)\n",
    "print(\"94% Confidence Interval for the difference between two means:\", confidence_interval_diff)\n"
   ]
  },
  {
   "cell_type": "code",
   "execution_count": null,
   "metadata": {},
   "outputs": [],
   "source": []
  }
 ],
 "metadata": {
  "kernelspec": {
   "display_name": "Python 3 (ipykernel)",
   "language": "python",
   "name": "python3"
  },
  "language_info": {
   "codemirror_mode": {
    "name": "ipython",
    "version": 3
   },
   "file_extension": ".py",
   "mimetype": "text/x-python",
   "name": "python",
   "nbconvert_exporter": "python",
   "pygments_lexer": "ipython3",
   "version": "3.11.7"
  }
 },
 "nbformat": 4,
 "nbformat_minor": 2
}
